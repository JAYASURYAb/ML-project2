{
  "nbformat": 4,
  "nbformat_minor": 0,
  "metadata": {
    "colab": {
      "name": "Campus recruitment.ipynb",
      "provenance": [],
      "collapsed_sections": [],
      "authorship_tag": "ABX9TyOxFuVA0XZhQ3uZEOyuAHb6",
      "include_colab_link": true
    },
    "kernelspec": {
      "name": "python3",
      "display_name": "Python 3"
    }
  },
  "cells": [
    {
      "cell_type": "markdown",
      "metadata": {
        "id": "view-in-github",
        "colab_type": "text"
      },
      "source": [
        "<a href=\"https://colab.research.google.com/github/JAYASURYAb/ML-project2/blob/master/Campus_recruitment.ipynb\" target=\"_parent\"><img src=\"https://colab.research.google.com/assets/colab-badge.svg\" alt=\"Open In Colab\"/></a>"
      ]
    },
    {
      "cell_type": "markdown",
      "metadata": {
        "id": "Ri-UP6xOuK_p",
        "colab_type": "text"
      },
      "source": [
        "##Importing Libraries"
      ]
    },
    {
      "cell_type": "code",
      "metadata": {
        "id": "tHg9dgxmL-UG",
        "colab_type": "code",
        "colab": {}
      },
      "source": [
        "import pandas as pd\n",
        "import numpy as np\n",
        "import matplotlib.pyplot as plt\n"
      ],
      "execution_count": 1,
      "outputs": []
    },
    {
      "cell_type": "code",
      "metadata": {
        "id": "7n-boKLdMaAA",
        "colab_type": "code",
        "colab": {}
      },
      "source": [
        "dataset = pd.read_csv('/content/Placement_Data_Full_Class .csv')\n"
      ],
      "execution_count": 2,
      "outputs": []
    },
    {
      "cell_type": "code",
      "metadata": {
        "id": "jpQkEbT-M_rb",
        "colab_type": "code",
        "colab": {
          "base_uri": "https://localhost:8080/",
          "height": 419
        },
        "outputId": "430624ba-64bf-462c-d2a5-afefb9d2085a"
      },
      "source": [
        "dataset"
      ],
      "execution_count": 3,
      "outputs": [
        {
          "output_type": "execute_result",
          "data": {
            "text/html": [
              "<div>\n",
              "<style scoped>\n",
              "    .dataframe tbody tr th:only-of-type {\n",
              "        vertical-align: middle;\n",
              "    }\n",
              "\n",
              "    .dataframe tbody tr th {\n",
              "        vertical-align: top;\n",
              "    }\n",
              "\n",
              "    .dataframe thead th {\n",
              "        text-align: right;\n",
              "    }\n",
              "</style>\n",
              "<table border=\"1\" class=\"dataframe\">\n",
              "  <thead>\n",
              "    <tr style=\"text-align: right;\">\n",
              "      <th></th>\n",
              "      <th>sl_no</th>\n",
              "      <th>gender</th>\n",
              "      <th>ssc_p</th>\n",
              "      <th>ssc_b</th>\n",
              "      <th>hsc_p</th>\n",
              "      <th>hsc_b</th>\n",
              "      <th>hsc_s</th>\n",
              "      <th>degree_p</th>\n",
              "      <th>degree_t</th>\n",
              "      <th>workex</th>\n",
              "      <th>etest_p</th>\n",
              "      <th>specialisation</th>\n",
              "      <th>mba_p</th>\n",
              "      <th>status</th>\n",
              "      <th>salary</th>\n",
              "    </tr>\n",
              "  </thead>\n",
              "  <tbody>\n",
              "    <tr>\n",
              "      <th>0</th>\n",
              "      <td>1</td>\n",
              "      <td>M</td>\n",
              "      <td>67.00</td>\n",
              "      <td>Others</td>\n",
              "      <td>91.00</td>\n",
              "      <td>Others</td>\n",
              "      <td>Commerce</td>\n",
              "      <td>58.00</td>\n",
              "      <td>Sci&amp;Tech</td>\n",
              "      <td>No</td>\n",
              "      <td>55.0</td>\n",
              "      <td>Mkt&amp;HR</td>\n",
              "      <td>58.80</td>\n",
              "      <td>Placed</td>\n",
              "      <td>270000.0</td>\n",
              "    </tr>\n",
              "    <tr>\n",
              "      <th>1</th>\n",
              "      <td>2</td>\n",
              "      <td>M</td>\n",
              "      <td>79.33</td>\n",
              "      <td>Central</td>\n",
              "      <td>78.33</td>\n",
              "      <td>Others</td>\n",
              "      <td>Science</td>\n",
              "      <td>77.48</td>\n",
              "      <td>Sci&amp;Tech</td>\n",
              "      <td>Yes</td>\n",
              "      <td>86.5</td>\n",
              "      <td>Mkt&amp;Fin</td>\n",
              "      <td>66.28</td>\n",
              "      <td>Placed</td>\n",
              "      <td>200000.0</td>\n",
              "    </tr>\n",
              "    <tr>\n",
              "      <th>2</th>\n",
              "      <td>3</td>\n",
              "      <td>M</td>\n",
              "      <td>65.00</td>\n",
              "      <td>Central</td>\n",
              "      <td>68.00</td>\n",
              "      <td>Central</td>\n",
              "      <td>Arts</td>\n",
              "      <td>64.00</td>\n",
              "      <td>Comm&amp;Mgmt</td>\n",
              "      <td>No</td>\n",
              "      <td>75.0</td>\n",
              "      <td>Mkt&amp;Fin</td>\n",
              "      <td>57.80</td>\n",
              "      <td>Placed</td>\n",
              "      <td>250000.0</td>\n",
              "    </tr>\n",
              "    <tr>\n",
              "      <th>3</th>\n",
              "      <td>4</td>\n",
              "      <td>M</td>\n",
              "      <td>56.00</td>\n",
              "      <td>Central</td>\n",
              "      <td>52.00</td>\n",
              "      <td>Central</td>\n",
              "      <td>Science</td>\n",
              "      <td>52.00</td>\n",
              "      <td>Sci&amp;Tech</td>\n",
              "      <td>No</td>\n",
              "      <td>66.0</td>\n",
              "      <td>Mkt&amp;HR</td>\n",
              "      <td>59.43</td>\n",
              "      <td>Not Placed</td>\n",
              "      <td>NaN</td>\n",
              "    </tr>\n",
              "    <tr>\n",
              "      <th>4</th>\n",
              "      <td>5</td>\n",
              "      <td>M</td>\n",
              "      <td>85.80</td>\n",
              "      <td>Central</td>\n",
              "      <td>73.60</td>\n",
              "      <td>Central</td>\n",
              "      <td>Commerce</td>\n",
              "      <td>73.30</td>\n",
              "      <td>Comm&amp;Mgmt</td>\n",
              "      <td>No</td>\n",
              "      <td>96.8</td>\n",
              "      <td>Mkt&amp;Fin</td>\n",
              "      <td>55.50</td>\n",
              "      <td>Placed</td>\n",
              "      <td>425000.0</td>\n",
              "    </tr>\n",
              "    <tr>\n",
              "      <th>...</th>\n",
              "      <td>...</td>\n",
              "      <td>...</td>\n",
              "      <td>...</td>\n",
              "      <td>...</td>\n",
              "      <td>...</td>\n",
              "      <td>...</td>\n",
              "      <td>...</td>\n",
              "      <td>...</td>\n",
              "      <td>...</td>\n",
              "      <td>...</td>\n",
              "      <td>...</td>\n",
              "      <td>...</td>\n",
              "      <td>...</td>\n",
              "      <td>...</td>\n",
              "      <td>...</td>\n",
              "    </tr>\n",
              "    <tr>\n",
              "      <th>210</th>\n",
              "      <td>211</td>\n",
              "      <td>M</td>\n",
              "      <td>80.60</td>\n",
              "      <td>Others</td>\n",
              "      <td>82.00</td>\n",
              "      <td>Others</td>\n",
              "      <td>Commerce</td>\n",
              "      <td>77.60</td>\n",
              "      <td>Comm&amp;Mgmt</td>\n",
              "      <td>No</td>\n",
              "      <td>91.0</td>\n",
              "      <td>Mkt&amp;Fin</td>\n",
              "      <td>74.49</td>\n",
              "      <td>Placed</td>\n",
              "      <td>400000.0</td>\n",
              "    </tr>\n",
              "    <tr>\n",
              "      <th>211</th>\n",
              "      <td>212</td>\n",
              "      <td>M</td>\n",
              "      <td>58.00</td>\n",
              "      <td>Others</td>\n",
              "      <td>60.00</td>\n",
              "      <td>Others</td>\n",
              "      <td>Science</td>\n",
              "      <td>72.00</td>\n",
              "      <td>Sci&amp;Tech</td>\n",
              "      <td>No</td>\n",
              "      <td>74.0</td>\n",
              "      <td>Mkt&amp;Fin</td>\n",
              "      <td>53.62</td>\n",
              "      <td>Placed</td>\n",
              "      <td>275000.0</td>\n",
              "    </tr>\n",
              "    <tr>\n",
              "      <th>212</th>\n",
              "      <td>213</td>\n",
              "      <td>M</td>\n",
              "      <td>67.00</td>\n",
              "      <td>Others</td>\n",
              "      <td>67.00</td>\n",
              "      <td>Others</td>\n",
              "      <td>Commerce</td>\n",
              "      <td>73.00</td>\n",
              "      <td>Comm&amp;Mgmt</td>\n",
              "      <td>Yes</td>\n",
              "      <td>59.0</td>\n",
              "      <td>Mkt&amp;Fin</td>\n",
              "      <td>69.72</td>\n",
              "      <td>Placed</td>\n",
              "      <td>295000.0</td>\n",
              "    </tr>\n",
              "    <tr>\n",
              "      <th>213</th>\n",
              "      <td>214</td>\n",
              "      <td>F</td>\n",
              "      <td>74.00</td>\n",
              "      <td>Others</td>\n",
              "      <td>66.00</td>\n",
              "      <td>Others</td>\n",
              "      <td>Commerce</td>\n",
              "      <td>58.00</td>\n",
              "      <td>Comm&amp;Mgmt</td>\n",
              "      <td>No</td>\n",
              "      <td>70.0</td>\n",
              "      <td>Mkt&amp;HR</td>\n",
              "      <td>60.23</td>\n",
              "      <td>Placed</td>\n",
              "      <td>204000.0</td>\n",
              "    </tr>\n",
              "    <tr>\n",
              "      <th>214</th>\n",
              "      <td>215</td>\n",
              "      <td>M</td>\n",
              "      <td>62.00</td>\n",
              "      <td>Central</td>\n",
              "      <td>58.00</td>\n",
              "      <td>Others</td>\n",
              "      <td>Science</td>\n",
              "      <td>53.00</td>\n",
              "      <td>Comm&amp;Mgmt</td>\n",
              "      <td>No</td>\n",
              "      <td>89.0</td>\n",
              "      <td>Mkt&amp;HR</td>\n",
              "      <td>60.22</td>\n",
              "      <td>Not Placed</td>\n",
              "      <td>NaN</td>\n",
              "    </tr>\n",
              "  </tbody>\n",
              "</table>\n",
              "<p>215 rows × 15 columns</p>\n",
              "</div>"
            ],
            "text/plain": [
              "     sl_no gender  ssc_p    ssc_b  ...  specialisation  mba_p      status    salary\n",
              "0        1      M  67.00   Others  ...          Mkt&HR  58.80      Placed  270000.0\n",
              "1        2      M  79.33  Central  ...         Mkt&Fin  66.28      Placed  200000.0\n",
              "2        3      M  65.00  Central  ...         Mkt&Fin  57.80      Placed  250000.0\n",
              "3        4      M  56.00  Central  ...          Mkt&HR  59.43  Not Placed       NaN\n",
              "4        5      M  85.80  Central  ...         Mkt&Fin  55.50      Placed  425000.0\n",
              "..     ...    ...    ...      ...  ...             ...    ...         ...       ...\n",
              "210    211      M  80.60   Others  ...         Mkt&Fin  74.49      Placed  400000.0\n",
              "211    212      M  58.00   Others  ...         Mkt&Fin  53.62      Placed  275000.0\n",
              "212    213      M  67.00   Others  ...         Mkt&Fin  69.72      Placed  295000.0\n",
              "213    214      F  74.00   Others  ...          Mkt&HR  60.23      Placed  204000.0\n",
              "214    215      M  62.00  Central  ...          Mkt&HR  60.22  Not Placed       NaN\n",
              "\n",
              "[215 rows x 15 columns]"
            ]
          },
          "metadata": {
            "tags": []
          },
          "execution_count": 3
        }
      ]
    },
    {
      "cell_type": "code",
      "metadata": {
        "id": "SPvpiAROuhbv",
        "colab_type": "code",
        "colab": {
          "base_uri": "https://localhost:8080/",
          "height": 297
        },
        "outputId": "16bff356-3541-4646-d27b-2f905a2c774a"
      },
      "source": [
        "dataset.describe()"
      ],
      "execution_count": 4,
      "outputs": [
        {
          "output_type": "execute_result",
          "data": {
            "text/html": [
              "<div>\n",
              "<style scoped>\n",
              "    .dataframe tbody tr th:only-of-type {\n",
              "        vertical-align: middle;\n",
              "    }\n",
              "\n",
              "    .dataframe tbody tr th {\n",
              "        vertical-align: top;\n",
              "    }\n",
              "\n",
              "    .dataframe thead th {\n",
              "        text-align: right;\n",
              "    }\n",
              "</style>\n",
              "<table border=\"1\" class=\"dataframe\">\n",
              "  <thead>\n",
              "    <tr style=\"text-align: right;\">\n",
              "      <th></th>\n",
              "      <th>sl_no</th>\n",
              "      <th>ssc_p</th>\n",
              "      <th>hsc_p</th>\n",
              "      <th>degree_p</th>\n",
              "      <th>etest_p</th>\n",
              "      <th>mba_p</th>\n",
              "      <th>salary</th>\n",
              "    </tr>\n",
              "  </thead>\n",
              "  <tbody>\n",
              "    <tr>\n",
              "      <th>count</th>\n",
              "      <td>215.000000</td>\n",
              "      <td>215.000000</td>\n",
              "      <td>215.000000</td>\n",
              "      <td>215.000000</td>\n",
              "      <td>215.000000</td>\n",
              "      <td>215.000000</td>\n",
              "      <td>148.000000</td>\n",
              "    </tr>\n",
              "    <tr>\n",
              "      <th>mean</th>\n",
              "      <td>108.000000</td>\n",
              "      <td>67.303395</td>\n",
              "      <td>66.333163</td>\n",
              "      <td>66.370186</td>\n",
              "      <td>72.100558</td>\n",
              "      <td>62.278186</td>\n",
              "      <td>288655.405405</td>\n",
              "    </tr>\n",
              "    <tr>\n",
              "      <th>std</th>\n",
              "      <td>62.209324</td>\n",
              "      <td>10.827205</td>\n",
              "      <td>10.897509</td>\n",
              "      <td>7.358743</td>\n",
              "      <td>13.275956</td>\n",
              "      <td>5.833385</td>\n",
              "      <td>93457.452420</td>\n",
              "    </tr>\n",
              "    <tr>\n",
              "      <th>min</th>\n",
              "      <td>1.000000</td>\n",
              "      <td>40.890000</td>\n",
              "      <td>37.000000</td>\n",
              "      <td>50.000000</td>\n",
              "      <td>50.000000</td>\n",
              "      <td>51.210000</td>\n",
              "      <td>200000.000000</td>\n",
              "    </tr>\n",
              "    <tr>\n",
              "      <th>25%</th>\n",
              "      <td>54.500000</td>\n",
              "      <td>60.600000</td>\n",
              "      <td>60.900000</td>\n",
              "      <td>61.000000</td>\n",
              "      <td>60.000000</td>\n",
              "      <td>57.945000</td>\n",
              "      <td>240000.000000</td>\n",
              "    </tr>\n",
              "    <tr>\n",
              "      <th>50%</th>\n",
              "      <td>108.000000</td>\n",
              "      <td>67.000000</td>\n",
              "      <td>65.000000</td>\n",
              "      <td>66.000000</td>\n",
              "      <td>71.000000</td>\n",
              "      <td>62.000000</td>\n",
              "      <td>265000.000000</td>\n",
              "    </tr>\n",
              "    <tr>\n",
              "      <th>75%</th>\n",
              "      <td>161.500000</td>\n",
              "      <td>75.700000</td>\n",
              "      <td>73.000000</td>\n",
              "      <td>72.000000</td>\n",
              "      <td>83.500000</td>\n",
              "      <td>66.255000</td>\n",
              "      <td>300000.000000</td>\n",
              "    </tr>\n",
              "    <tr>\n",
              "      <th>max</th>\n",
              "      <td>215.000000</td>\n",
              "      <td>89.400000</td>\n",
              "      <td>97.700000</td>\n",
              "      <td>91.000000</td>\n",
              "      <td>98.000000</td>\n",
              "      <td>77.890000</td>\n",
              "      <td>940000.000000</td>\n",
              "    </tr>\n",
              "  </tbody>\n",
              "</table>\n",
              "</div>"
            ],
            "text/plain": [
              "            sl_no       ssc_p  ...       mba_p         salary\n",
              "count  215.000000  215.000000  ...  215.000000     148.000000\n",
              "mean   108.000000   67.303395  ...   62.278186  288655.405405\n",
              "std     62.209324   10.827205  ...    5.833385   93457.452420\n",
              "min      1.000000   40.890000  ...   51.210000  200000.000000\n",
              "25%     54.500000   60.600000  ...   57.945000  240000.000000\n",
              "50%    108.000000   67.000000  ...   62.000000  265000.000000\n",
              "75%    161.500000   75.700000  ...   66.255000  300000.000000\n",
              "max    215.000000   89.400000  ...   77.890000  940000.000000\n",
              "\n",
              "[8 rows x 7 columns]"
            ]
          },
          "metadata": {
            "tags": []
          },
          "execution_count": 4
        }
      ]
    },
    {
      "cell_type": "code",
      "metadata": {
        "id": "JqiXkkTMOoRX",
        "colab_type": "code",
        "colab": {
          "base_uri": "https://localhost:8080/",
          "height": 391
        },
        "outputId": "048a3090-d37e-4670-ba9f-5d936aebbe88"
      },
      "source": [
        "dataset.info()"
      ],
      "execution_count": 5,
      "outputs": [
        {
          "output_type": "stream",
          "text": [
            "<class 'pandas.core.frame.DataFrame'>\n",
            "RangeIndex: 215 entries, 0 to 214\n",
            "Data columns (total 15 columns):\n",
            " #   Column          Non-Null Count  Dtype  \n",
            "---  ------          --------------  -----  \n",
            " 0   sl_no           215 non-null    int64  \n",
            " 1   gender          215 non-null    object \n",
            " 2   ssc_p           215 non-null    float64\n",
            " 3   ssc_b           215 non-null    object \n",
            " 4   hsc_p           215 non-null    float64\n",
            " 5   hsc_b           215 non-null    object \n",
            " 6   hsc_s           215 non-null    object \n",
            " 7   degree_p        215 non-null    float64\n",
            " 8   degree_t        215 non-null    object \n",
            " 9   workex          215 non-null    object \n",
            " 10  etest_p         215 non-null    float64\n",
            " 11  specialisation  215 non-null    object \n",
            " 12  mba_p           215 non-null    float64\n",
            " 13  status          215 non-null    object \n",
            " 14  salary          148 non-null    float64\n",
            "dtypes: float64(6), int64(1), object(8)\n",
            "memory usage: 25.3+ KB\n"
          ],
          "name": "stdout"
        }
      ]
    },
    {
      "cell_type": "markdown",
      "metadata": {
        "id": "owH9S7Uouo8O",
        "colab_type": "text"
      },
      "source": [
        "**We can observe we have null values only in salary column,So we have, 215 - 148 = 67.**\n",
        "\n",
        "**Therfore,we have 67 null values.That means 67 members are not hired.**\n",
        "\n"
      ]
    },
    {
      "cell_type": "code",
      "metadata": {
        "id": "CuzMgdqFOuHb",
        "colab_type": "code",
        "colab": {}
      },
      "source": [
        "dataset['salary'].fillna(value=0, inplace=True)"
      ],
      "execution_count": 6,
      "outputs": []
    },
    {
      "cell_type": "markdown",
      "metadata": {
        "id": "zpLJG5Uox5XF",
        "colab_type": "text"
      },
      "source": [
        "**Filling missing value by 0,So that now ,we don't get any null values**"
      ]
    },
    {
      "cell_type": "code",
      "metadata": {
        "id": "O70irZoQxwu-",
        "colab_type": "code",
        "colab": {
          "base_uri": "https://localhost:8080/",
          "height": 391
        },
        "outputId": "e3f99317-59b9-4a93-fcf5-30c58fc7d80c"
      },
      "source": [
        "dataset.info()"
      ],
      "execution_count": 7,
      "outputs": [
        {
          "output_type": "stream",
          "text": [
            "<class 'pandas.core.frame.DataFrame'>\n",
            "RangeIndex: 215 entries, 0 to 214\n",
            "Data columns (total 15 columns):\n",
            " #   Column          Non-Null Count  Dtype  \n",
            "---  ------          --------------  -----  \n",
            " 0   sl_no           215 non-null    int64  \n",
            " 1   gender          215 non-null    object \n",
            " 2   ssc_p           215 non-null    float64\n",
            " 3   ssc_b           215 non-null    object \n",
            " 4   hsc_p           215 non-null    float64\n",
            " 5   hsc_b           215 non-null    object \n",
            " 6   hsc_s           215 non-null    object \n",
            " 7   degree_p        215 non-null    float64\n",
            " 8   degree_t        215 non-null    object \n",
            " 9   workex          215 non-null    object \n",
            " 10  etest_p         215 non-null    float64\n",
            " 11  specialisation  215 non-null    object \n",
            " 12  mba_p           215 non-null    float64\n",
            " 13  status          215 non-null    object \n",
            " 14  salary          215 non-null    float64\n",
            "dtypes: float64(6), int64(1), object(8)\n",
            "memory usage: 25.3+ KB\n"
          ],
          "name": "stdout"
        }
      ]
    },
    {
      "cell_type": "markdown",
      "metadata": {
        "id": "cAfje5fWyxVn",
        "colab_type": "text"
      },
      "source": [
        "## Getting column objects data"
      ]
    },
    {
      "cell_type": "code",
      "metadata": {
        "id": "PAQ7KWoLx004",
        "colab_type": "code",
        "colab": {
          "base_uri": "https://localhost:8080/",
          "height": 459
        },
        "outputId": "6ee16b5b-da5d-46b0-ee03-6b3753b41dbf"
      },
      "source": [
        "column=dataset.select_dtypes(include=['object'])\n",
        "for col in column:\n",
        "    display(dataset[col].value_counts())"
      ],
      "execution_count": 8,
      "outputs": [
        {
          "output_type": "display_data",
          "data": {
            "text/plain": [
              "M    139\n",
              "F     76\n",
              "Name: gender, dtype: int64"
            ]
          },
          "metadata": {
            "tags": []
          }
        },
        {
          "output_type": "display_data",
          "data": {
            "text/plain": [
              "Central    116\n",
              "Others      99\n",
              "Name: ssc_b, dtype: int64"
            ]
          },
          "metadata": {
            "tags": []
          }
        },
        {
          "output_type": "display_data",
          "data": {
            "text/plain": [
              "Others     131\n",
              "Central     84\n",
              "Name: hsc_b, dtype: int64"
            ]
          },
          "metadata": {
            "tags": []
          }
        },
        {
          "output_type": "display_data",
          "data": {
            "text/plain": [
              "Commerce    113\n",
              "Science      91\n",
              "Arts         11\n",
              "Name: hsc_s, dtype: int64"
            ]
          },
          "metadata": {
            "tags": []
          }
        },
        {
          "output_type": "display_data",
          "data": {
            "text/plain": [
              "Comm&Mgmt    145\n",
              "Sci&Tech      59\n",
              "Others        11\n",
              "Name: degree_t, dtype: int64"
            ]
          },
          "metadata": {
            "tags": []
          }
        },
        {
          "output_type": "display_data",
          "data": {
            "text/plain": [
              "No     141\n",
              "Yes     74\n",
              "Name: workex, dtype: int64"
            ]
          },
          "metadata": {
            "tags": []
          }
        },
        {
          "output_type": "display_data",
          "data": {
            "text/plain": [
              "Mkt&Fin    120\n",
              "Mkt&HR      95\n",
              "Name: specialisation, dtype: int64"
            ]
          },
          "metadata": {
            "tags": []
          }
        },
        {
          "output_type": "display_data",
          "data": {
            "text/plain": [
              "Placed        148\n",
              "Not Placed     67\n",
              "Name: status, dtype: int64"
            ]
          },
          "metadata": {
            "tags": []
          }
        }
      ]
    },
    {
      "cell_type": "markdown",
      "metadata": {
        "id": "DSTt-aYm2C93",
        "colab_type": "text"
      },
      "source": [
        "**Except for hsc_s and degree_t with 3 classes, all other have 2 classes each and we can notice 148 students are placed and 67 students are not placed.**\n",
        "**Now the challenge is:**\n",
        "\n",
        "****Which factor influenced a candidate in getting placed?****\n",
        "\n"
      ]
    },
    {
      "cell_type": "markdown",
      "metadata": {
        "id": "ZaJvBkd757Yc",
        "colab_type": "text"
      },
      "source": [
        "##Exploring & Visualizations Data by each Features"
      ]
    },
    {
      "cell_type": "markdown",
      "metadata": {
        "id": "nsQwDQro6VBi",
        "colab_type": "text"
      },
      "source": [
        "###Gender"
      ]
    },
    {
      "cell_type": "code",
      "metadata": {
        "id": "4fxv3SiH8XOX",
        "colab_type": "code",
        "colab": {
          "base_uri": "https://localhost:8080/",
          "height": 51
        },
        "outputId": "d6bb50ad-29fd-4792-a8c7-b94502dd2ef8"
      },
      "source": [
        "import seaborn as sns"
      ],
      "execution_count": 9,
      "outputs": [
        {
          "output_type": "stream",
          "text": [
            "/usr/local/lib/python3.6/dist-packages/statsmodels/tools/_testing.py:19: FutureWarning: pandas.util.testing is deprecated. Use the functions in the public API at pandas.testing instead.\n",
            "  import pandas.util.testing as tm\n"
          ],
          "name": "stderr"
        }
      ]
    },
    {
      "cell_type": "code",
      "metadata": {
        "id": "0aFfS7PV0dnP",
        "colab_type": "code",
        "colab": {
          "base_uri": "https://localhost:8080/",
          "height": 767
        },
        "outputId": "692dda5c-567d-41d0-ffe0-80f9c8ccdb8e"
      },
      "source": [
        "plt.style.use('seaborn-white')\n",
        "f,ax=plt.subplots(1,2,figsize=(18,8))\n",
        "dataset['gender'].value_counts().plot.pie(explode=[0,0.05],autopct='%1.1f%%',ax=ax[0],shadow=True)\n",
        "ax[0].set_title('gender')\n",
        "sns.countplot(x = 'gender',hue = \"status\",data = dataset)\n",
        "ax[1].set_title('Influence of gender on placement')\n",
        "plt.show()\n",
        "ax = sns.barplot(x=\"gender\", y=\"salary\", data=dataset)\n",
        "plt.show()\n"
      ],
      "execution_count": 10,
      "outputs": [
        {
          "output_type": "display_data",
          "data": {
            "image/png": "[encoded data removed]",
            "text/plain": [
              "<Figure size 1296x576 with 2 Axes>"
            ]
          },
          "metadata": {
            "tags": []
          }
        },
        {
          "output_type": "display_data",
          "data": {
            "image/png": "[encoded data removed]",
            "text/plain": [
              "<Figure size 432x288 with 1 Axes>"
            ]
          },
          "metadata": {
            "tags": []
          }
        }
      ]
    },
    {
      "cell_type": "markdown",
      "metadata": {
        "id": "PN5mucLJZspw",
        "colab_type": "text"
      },
      "source": [
        "So,we observe\n",
        "*   The number of placed male students are almost double than placed female students \n",
        "*   Male students are offered slightly greater salary than female on an average.\n"
      ]
    },
    {
      "cell_type": "markdown",
      "metadata": {
        "id": "QXQIeD9khHRn",
        "colab_type": "text"
      },
      "source": [
        "###Board of Education(ssc_b,hsc_b,hsc_s)\n"
      ]
    },
    {
      "cell_type": "markdown",
      "metadata": {
        "id": "lOKp7jBWi4qI",
        "colab_type": "text"
      },
      "source": [
        "*   ssc_b:Secondary Education board-10th grade\n",
        "*   hsc_b:Higher Secondary Education board-12th grade\n",
        "*   hsc_s : Specialization in Higher Secondary Education\n",
        "\n",
        "\n",
        "\n",
        "\n"
      ]
    },
    {
      "cell_type": "code",
      "metadata": {
        "id": "WI8b1nU8ifUS",
        "colab_type": "code",
        "colab": {
          "base_uri": "https://localhost:8080/",
          "height": 845
        },
        "outputId": "e43f9c11-00be-4ef2-8c64-246c01e836c5"
      },
      "source": [
        "plt.figure(figsize=(10,8))\n",
        "sns.countplot(x='ssc_b',hue='status',data=dataset)\n",
        "sns.catplot(x='hsc_b',hue='hsc_s',col='status',data=dataset,kind='count')\n",
        "plt.show()"
      ],
      "execution_count": 11,
      "outputs": [
        {
          "output_type": "display_data",
          "data": {
            "image/png": "[encoded data removed]",
            "text/plain": [
              "<Figure size 720x576 with 1 Axes>"
            ]
          },
          "metadata": {
            "tags": []
          }
        },
        {
          "output_type": "display_data",
          "data": {
            "image/png": "[encoded data removed]",
            "text/plain": [
              "<Figure size 804.75x360 with 2 Axes>"
            ]
          },
          "metadata": {
            "tags": []
          }
        }
      ]
    },
    {
      "cell_type": "markdown",
      "metadata": {
        "id": "MxLNF4Ofl5vz",
        "colab_type": "text"
      },
      "source": [
        "So,we observe\n",
        "*   In ssc_b,the central board students are placed more than other boards.\n",
        "*   But we see in hsc_b,the other boards students are placed more than the central board.\n",
        "*   Therfore,Board doesn't matter in placements.\n",
        "\n"
      ]
    },
    {
      "cell_type": "markdown",
      "metadata": {
        "id": "5XAEk3GeqJEI",
        "colab_type": "text"
      },
      "source": [
        "###Degree,Specialisation"
      ]
    },
    {
      "cell_type": "code",
      "metadata": {
        "id": "IlmtIHLrk3CH",
        "colab_type": "code",
        "colab": {
          "base_uri": "https://localhost:8080/",
          "height": 998
        },
        "outputId": "68cab137-0498-47ce-8622-c075325ce062"
      },
      "source": [
        "plt.figure(figsize=(7,3))\n",
        "sns.countplot(x=\"degree_t\", hue='status',data=dataset)\n",
        "plt.show()\n",
        "ax = sns.barplot(x=\"degree_t\", y=\"salary\", data=dataset)\n",
        "plt.show()\n",
        "sns.countplot(x=\"specialisation\", hue='status',data=dataset)\n",
        "plt.show()\n",
        "ax = sns.barplot(x=\"specialisation\", y=\"salary\", data=dataset)\n",
        "plt.show()"
      ],
      "execution_count": 12,
      "outputs": [
        {
          "output_type": "display_data",
          "data": {
            "image/png": "[encoded data removed]",
            "text/plain": [
              "<Figure size 504x216 with 1 Axes>"
            ]
          },
          "metadata": {
            "tags": []
          }
        },
        {
          "output_type": "display_data",
          "data": {
            "image/png": "[encoded data removed]",
            "text/plain": [
              "<Figure size 432x288 with 1 Axes>"
            ]
          },
          "metadata": {
            "tags": []
          }
        },
        {
          "output_type": "display_data",
          "data": {
            "image/png": "[encoded data removed]",
            "text/plain": [
              "<Figure size 432x288 with 1 Axes>"
            ]
          },
          "metadata": {
            "tags": []
          }
        },
        {
          "output_type": "display_data",
          "data": {
            "image/png": "[encoded data removed]",
            "text/plain": [
              "<Figure size 432x288 with 1 Axes>"
            ]
          },
          "metadata": {
            "tags": []
          }
        }
      ]
    },
    {
      "cell_type": "markdown",
      "metadata": {
        "id": "t_vmNYI8rigv",
        "colab_type": "text"
      },
      "source": [
        "So,here we observe\n",
        "*   Commerce and Science degree students are placed more and other students are less placed.\n",
        "* By salary wise,Sci&tech students gets paid\n",
        "more and second comes Commerce&mgmt and others are paid less salary.\n",
        "*  Specialisation matters lot in placements.Mkt&fin students have more placements compared to Mkt&HR.By salary wise also MKT&Fin students are highly paid compared to Mkt&HR.\n"
      ]
    },
    {
      "cell_type": "markdown",
      "metadata": {
        "id": "cNDz7UOJBLxO",
        "colab_type": "text"
      },
      "source": [
        "###Percentage"
      ]
    },
    {
      "cell_type": "code",
      "metadata": {
        "id": "uwxjYm4qCHBq",
        "colab_type": "code",
        "colab": {
          "base_uri": "https://localhost:8080/",
          "height": 889
        },
        "outputId": "07c8ff5c-39a4-4a40-acbc-c7e444616d36"
      },
      "source": [
        "plt.figure(figsize = (15, 15))\n",
        "ax=plt.subplot(221)\n",
        "sns.barplot(x='status',y='ssc_p',hue='gender',data=dataset)\n",
        "ax.set_title('Secondary school percentage')\n",
        "ax=plt.subplot(222)\n",
        "sns.barplot(x='status',y='hsc_p',hue='gender',data=dataset)\n",
        "ax.set_title('Higher Secondary school percentage')\n",
        "ax=plt.subplot(223)\n",
        "sns.barplot(x='status',y='degree_p',hue='gender',data=dataset)\n",
        "ax.set_title(' Degree percentage')\n",
        "ax=plt.subplot(224)\n",
        "sns.barplot(x='status',y='mba_p',hue='gender',data=dataset)\n",
        "ax.set_title('MBA percentage')\n",
        "plt.show()"
      ],
      "execution_count": 13,
      "outputs": [
        {
          "output_type": "display_data",
          "data": {
            "image/png": "[encoded data removed]",
            "text/plain": [
              "<Figure size 1080x1080 with 4 Axes>"
            ]
          },
          "metadata": {
            "tags": []
          }
        }
      ]
    },
    {
      "cell_type": "markdown",
      "metadata": {
        "id": "uz7h7dOmLXNJ",
        "colab_type": "text"
      },
      "source": [
        "So,from above plots we observe\n",
        "*   Female students got a higher percentage in all fields as compared to male students.\n",
        "*   Students with higher percentages in their 10th,12th and degree have a better chance of placements.\n",
        "*   There's no guarantee of placements in MBA for good percentage.\n",
        "*   Therefore,percentage doesn't influence over the salary.\n",
        "\n"
      ]
    },
    {
      "cell_type": "markdown",
      "metadata": {
        "id": "b8xwJ-ck_IXO",
        "colab_type": "text"
      },
      "source": [
        "###Work experience"
      ]
    },
    {
      "cell_type": "code",
      "metadata": {
        "id": "0TKcCoC5JsHJ",
        "colab_type": "code",
        "colab": {
          "base_uri": "https://localhost:8080/",
          "height": 508
        },
        "outputId": "f6d06b38-d519-44a9-c9f7-689beeb4943d"
      },
      "source": [
        "plt.style.use('seaborn-white')\n",
        "f,ax=plt.subplots(1,2,figsize=(18,8))\n",
        "dataset['workex'].value_counts().plot.pie(explode=[0,0.05],autopct='%1.1f%%',ax=ax[0],shadow=True)\n",
        "ax[0].set_title('Work experience')\n",
        "sns.countplot(x = 'workex',hue = \"status\",data = dataset)\n",
        "ax[1].set_title('Influence of experience on placement')\n",
        "plt.show()"
      ],
      "execution_count": 14,
      "outputs": [
        {
          "output_type": "display_data",
          "data": {
            "image/png": "[encoded data removed]",
            "text/plain": [
              "<Figure size 1296x576 with 2 Axes>"
            ]
          },
          "metadata": {
            "tags": []
          }
        }
      ]
    },
    {
      "cell_type": "markdown",
      "metadata": {
        "id": "5oCtZW8NSQi1",
        "colab_type": "text"
      },
      "source": [
        "So,we observe\n",
        "*   There are more students who don't have a work experience.\n",
        "* And students with no work experience got placed more than the students who had work experience.\n",
        "*  We can conclude that work experience doesn't influence a student in the recruitment process.But having work experience can benefit in increasing the chances of geting placed.\n",
        "\n"
      ]
    },
    {
      "cell_type": "markdown",
      "metadata": {
        "id": "qmtIWmXrVt4W",
        "colab_type": "text"
      },
      "source": [
        "##Data preprocessing"
      ]
    },
    {
      "cell_type": "code",
      "metadata": {
        "id": "kt0GtlxRWj2a",
        "colab_type": "code",
        "colab": {}
      },
      "source": [
        "x = dataset.iloc[:,[4,7,9,10,11,12]].values\n",
        "y = dataset.iloc[:,-2].values"
      ],
      "execution_count": 15,
      "outputs": []
    },
    {
      "cell_type": "code",
      "metadata": {
        "id": "WhX5mu_ROXSw",
        "colab_type": "code",
        "colab": {}
      },
      "source": [
        "from sklearn.compose import ColumnTransformer\n",
        "from sklearn.preprocessing import OneHotEncoder\n",
        "ct = ColumnTransformer(transformers = [('encoder',OneHotEncoder(), [2,4])],remainder = 'passthrough')\n",
        "x = np.array(ct.fit_transform(x))\n",
        "from sklearn.preprocessing import LabelEncoder\n",
        "le = LabelEncoder()\n",
        "y = le.fit_transform(y)"
      ],
      "execution_count": 16,
      "outputs": []
    },
    {
      "cell_type": "code",
      "metadata": {
        "id": "kTL1b1UWqAuJ",
        "colab_type": "code",
        "colab": {
          "base_uri": "https://localhost:8080/",
          "height": 136
        },
        "outputId": "f0609edd-bf13-432f-e6d5-00ca2a89b73b"
      },
      "source": [
        "x"
      ],
      "execution_count": 17,
      "outputs": [
        {
          "output_type": "execute_result",
          "data": {
            "text/plain": [
              "array([[1.0, 0.0, 0.0, ..., 58.0, 55.0, 58.8],\n",
              "       [0.0, 1.0, 1.0, ..., 77.48, 86.5, 66.28],\n",
              "       [1.0, 0.0, 1.0, ..., 64.0, 75.0, 57.8],\n",
              "       ...,\n",
              "       [0.0, 1.0, 1.0, ..., 73.0, 59.0, 69.72],\n",
              "       [1.0, 0.0, 0.0, ..., 58.0, 70.0, 60.23],\n",
              "       [1.0, 0.0, 0.0, ..., 53.0, 89.0, 60.22]], dtype=object)"
            ]
          },
          "metadata": {
            "tags": []
          },
          "execution_count": 17
        }
      ]
    },
    {
      "cell_type": "code",
      "metadata": {
        "id": "-L-A2Vg9aG-F",
        "colab_type": "code",
        "colab": {}
      },
      "source": [
        "from sklearn.model_selection import train_test_split\n",
        "x_train, x_test, y_train, y_test = train_test_split(x, y, test_size=0.3, random_state=1)                                            "
      ],
      "execution_count": 18,
      "outputs": []
    },
    {
      "cell_type": "code",
      "metadata": {
        "id": "C7y2ftWMkXfr",
        "colab_type": "code",
        "colab": {
          "base_uri": "https://localhost:8080/",
          "height": 136
        },
        "outputId": "aa77cdc1-b475-49e0-ebde-a4826d800326"
      },
      "source": [
        "x_train"
      ],
      "execution_count": 19,
      "outputs": [
        {
          "output_type": "execute_result",
          "data": {
            "text/plain": [
              "array([[0.0, 1.0, 1.0, ..., 67.0, 95.0, 64.86],\n",
              "       [0.0, 1.0, 1.0, ..., 64.27, 64.0, 66.23],\n",
              "       [1.0, 0.0, 1.0, ..., 61.4, 68.0, 66.88],\n",
              "       ...,\n",
              "       [1.0, 0.0, 1.0, ..., 78.0, 95.5, 68.53],\n",
              "       [0.0, 1.0, 1.0, ..., 69.5, 56.0, 56.94],\n",
              "       [1.0, 0.0, 0.0, ..., 65.6, 58.0, 55.47]], dtype=object)"
            ]
          },
          "metadata": {
            "tags": []
          },
          "execution_count": 19
        }
      ]
    },
    {
      "cell_type": "code",
      "metadata": {
        "id": "lLpHmer_kdDo",
        "colab_type": "code",
        "colab": {
          "base_uri": "https://localhost:8080/",
          "height": 1000
        },
        "outputId": "5aba8bd4-9b05-4b12-a4c4-b818187f454d"
      },
      "source": [
        "x_test"
      ],
      "execution_count": 20,
      "outputs": [
        {
          "output_type": "execute_result",
          "data": {
            "text/plain": [
              "array([[1.0, 0.0, 1.0, 0.0, 82.0, 69.0, 84.0, 58.31],\n",
              "       [0.0, 1.0, 1.0, 0.0, 78.0, 61.0, 88.56, 71.55],\n",
              "       [1.0, 0.0, 1.0, 0.0, 50.0, 54.0, 71.0, 65.69],\n",
              "       [1.0, 0.0, 0.0, 1.0, 90.0, 83.0, 80.0, 73.52],\n",
              "       [1.0, 0.0, 0.0, 1.0, 61.12, 56.2, 67.0, 62.65],\n",
              "       [0.0, 1.0, 1.0, 0.0, 65.0, 81.0, 88.0, 72.78],\n",
              "       [1.0, 0.0, 1.0, 0.0, 65.58, 72.11, 57.6, 56.66],\n",
              "       [1.0, 0.0, 1.0, 0.0, 60.5, 84.0, 98.0, 65.25],\n",
              "       [1.0, 0.0, 1.0, 0.0, 73.6, 73.3, 96.8, 55.5],\n",
              "       [1.0, 0.0, 0.0, 1.0, 53.0, 65.0, 64.0, 58.32],\n",
              "       [0.0, 1.0, 0.0, 1.0, 80.0, 78.0, 97.0, 70.48],\n",
              "       [1.0, 0.0, 1.0, 0.0, 68.0, 64.0, 93.0, 62.56],\n",
              "       [1.0, 0.0, 0.0, 1.0, 62.0, 54.0, 72.0, 55.41],\n",
              "       [0.0, 1.0, 1.0, 0.0, 73.0, 66.0, 70.0, 68.07],\n",
              "       [1.0, 0.0, 0.0, 1.0, 51.0, 57.5, 57.63, 62.72],\n",
              "       [1.0, 0.0, 0.0, 1.0, 61.0, 61.0, 58.0, 53.94],\n",
              "       [1.0, 0.0, 1.0, 0.0, 62.0, 64.0, 53.88, 54.97],\n",
              "       [1.0, 0.0, 1.0, 0.0, 62.5, 61.0, 93.91, 69.03],\n",
              "       [1.0, 0.0, 1.0, 0.0, 65.0, 75.0, 83.0, 58.87],\n",
              "       [1.0, 0.0, 0.0, 1.0, 58.0, 66.0, 53.7, 56.86],\n",
              "       [0.0, 1.0, 1.0, 0.0, 73.0, 81.0, 89.0, 69.7],\n",
              "       [1.0, 0.0, 1.0, 0.0, 60.0, 65.0, 87.55, 52.81],\n",
              "       [0.0, 1.0, 1.0, 0.0, 63.0, 70.0, 55.0, 62.0],\n",
              "       [1.0, 0.0, 0.0, 1.0, 66.0, 64.0, 68.0, 64.08],\n",
              "       [1.0, 0.0, 1.0, 0.0, 63.0, 64.0, 60.0, 61.87],\n",
              "       [1.0, 0.0, 0.0, 1.0, 78.0, 72.0, 71.0, 62.74],\n",
              "       [1.0, 0.0, 1.0, 0.0, 83.83, 71.72, 86.0, 59.75],\n",
              "       [0.0, 1.0, 1.0, 0.0, 66.8, 69.3, 80.4, 71.0],\n",
              "       [0.0, 1.0, 1.0, 0.0, 67.0, 70.0, 50.48, 77.89],\n",
              "       [1.0, 0.0, 1.0, 0.0, 64.2, 67.4, 59.0, 59.69],\n",
              "       [1.0, 0.0, 0.0, 1.0, 42.16, 61.26, 54.48, 65.48],\n",
              "       [1.0, 0.0, 0.0, 1.0, 60.33, 64.21, 63.0, 60.02],\n",
              "       [1.0, 0.0, 0.0, 1.0, 51.0, 52.0, 68.44, 62.77],\n",
              "       [0.0, 1.0, 1.0, 0.0, 68.4, 78.3, 60.0, 63.7],\n",
              "       [1.0, 0.0, 1.0, 0.0, 67.0, 58.0, 77.0, 51.29],\n",
              "       [1.0, 0.0, 0.0, 1.0, 91.0, 58.0, 55.0, 58.8],\n",
              "       [1.0, 0.0, 0.0, 1.0, 49.0, 58.0, 62.0, 60.59],\n",
              "       [1.0, 0.0, 1.0, 0.0, 86.0, 56.0, 57.0, 64.08],\n",
              "       [1.0, 0.0, 1.0, 0.0, 65.0, 60.0, 84.0, 64.15],\n",
              "       [0.0, 1.0, 1.0, 0.0, 76.5, 67.5, 73.35, 64.15],\n",
              "       [0.0, 1.0, 1.0, 0.0, 66.2, 65.6, 60.0, 62.54],\n",
              "       [1.0, 0.0, 0.0, 1.0, 70.0, 65.0, 88.0, 71.96],\n",
              "       [0.0, 1.0, 0.0, 1.0, 76.0, 72.0, 84.0, 58.95],\n",
              "       [0.0, 1.0, 1.0, 0.0, 60.0, 57.0, 78.0, 54.55],\n",
              "       [1.0, 0.0, 0.0, 1.0, 63.0, 66.0, 61.28, 60.11],\n",
              "       [1.0, 0.0, 0.0, 1.0, 67.0, 66.0, 68.0, 57.69],\n",
              "       [1.0, 0.0, 1.0, 0.0, 62.0, 68.0, 74.0, 57.99],\n",
              "       [1.0, 0.0, 1.0, 0.0, 77.0, 80.0, 60.0, 66.72],\n",
              "       [1.0, 0.0, 1.0, 0.0, 64.89, 70.67, 89.0, 60.39],\n",
              "       [1.0, 0.0, 0.0, 1.0, 58.0, 53.0, 89.0, 60.22],\n",
              "       [0.0, 1.0, 1.0, 0.0, 63.0, 60.0, 70.0, 53.2],\n",
              "       [1.0, 0.0, 1.0, 0.0, 90.9, 64.5, 86.04, 59.42],\n",
              "       [1.0, 0.0, 1.0, 0.0, 82.0, 63.0, 50.0, 59.47],\n",
              "       [1.0, 0.0, 0.0, 1.0, 62.0, 73.0, 58.0, 64.36],\n",
              "       [1.0, 0.0, 0.0, 1.0, 67.2, 60.0, 58.06, 69.28],\n",
              "       [1.0, 0.0, 1.0, 0.0, 90.0, 82.0, 92.0, 68.03],\n",
              "       [1.0, 0.0, 0.0, 1.0, 60.0, 65.0, 92.66, 62.92],\n",
              "       [1.0, 0.0, 1.0, 0.0, 78.5, 67.0, 68.71, 60.99],\n",
              "       [1.0, 0.0, 0.0, 1.0, 72.0, 78.0, 82.0, 71.43],\n",
              "       [1.0, 0.0, 1.0, 0.0, 62.0, 65.0, 62.0, 56.81],\n",
              "       [1.0, 0.0, 0.0, 1.0, 68.0, 69.0, 53.7, 55.01],\n",
              "       [1.0, 0.0, 0.0, 1.0, 60.0, 69.0, 55.5, 58.4],\n",
              "       [0.0, 1.0, 1.0, 0.0, 72.8, 66.6, 96.0, 70.85],\n",
              "       [1.0, 0.0, 1.0, 0.0, 75.0, 73.0, 80.0, 67.05],\n",
              "       [1.0, 0.0, 0.0, 1.0, 47.0, 50.0, 76.0, 54.96]], dtype=object)"
            ]
          },
          "metadata": {
            "tags": []
          },
          "execution_count": 20
        }
      ]
    },
    {
      "cell_type": "code",
      "metadata": {
        "id": "uegnZNTckljh",
        "colab_type": "code",
        "colab": {
          "base_uri": "https://localhost:8080/",
          "height": 136
        },
        "outputId": "7262ee36-669a-4d55-ef00-dc040e879cb4"
      },
      "source": [
        "y_train"
      ],
      "execution_count": 21,
      "outputs": [
        {
          "output_type": "execute_result",
          "data": {
            "text/plain": [
              "array([1, 1, 1, 0, 1, 1, 1, 1, 1, 1, 1, 0, 0, 0, 0, 0, 1, 1, 1, 1, 1, 1,\n",
              "       1, 1, 0, 1, 0, 1, 0, 1, 1, 1, 1, 1, 1, 1, 1, 1, 1, 0, 0, 0, 1, 0,\n",
              "       1, 1, 0, 0, 1, 0, 1, 0, 1, 1, 0, 0, 1, 0, 1, 1, 1, 1, 1, 0, 1, 0,\n",
              "       1, 1, 0, 0, 1, 1, 0, 0, 1, 1, 1, 0, 1, 0, 0, 1, 1, 1, 0, 1, 1, 1,\n",
              "       1, 0, 0, 1, 1, 0, 1, 0, 1, 0, 1, 1, 1, 1, 0, 0, 0, 0, 1, 1, 1, 1,\n",
              "       0, 1, 0, 1, 1, 1, 1, 1, 1, 1, 0, 1, 1, 0, 1, 1, 0, 1, 1, 1, 1, 1,\n",
              "       1, 1, 1, 1, 0, 1, 1, 1, 1, 0, 1, 0, 1, 1, 1, 1, 1, 1])"
            ]
          },
          "metadata": {
            "tags": []
          },
          "execution_count": 21
        }
      ]
    },
    {
      "cell_type": "code",
      "metadata": {
        "id": "se3iKt12kg2A",
        "colab_type": "code",
        "colab": {
          "base_uri": "https://localhost:8080/",
          "height": 68
        },
        "outputId": "b0d19eb4-9d55-49d8-ae0e-9c7a0c22bc9e"
      },
      "source": [
        "y_test"
      ],
      "execution_count": 22,
      "outputs": [
        {
          "output_type": "execute_result",
          "data": {
            "text/plain": [
              "array([1, 1, 0, 1, 0, 1, 1, 1, 1, 0, 1, 1, 0, 1, 0, 1, 1, 0, 1, 1, 1, 1,\n",
              "       1, 0, 0, 1, 1, 1, 1, 1, 0, 0, 0, 1, 0, 1, 0, 1, 0, 1, 1, 0, 1, 1,\n",
              "       1, 1, 1, 1, 1, 0, 1, 1, 0, 1, 0, 1, 0, 1, 1, 1, 1, 1, 1, 1, 0])"
            ]
          },
          "metadata": {
            "tags": []
          },
          "execution_count": 22
        }
      ]
    },
    {
      "cell_type": "markdown",
      "metadata": {
        "id": "wrgjIWDe2wVe",
        "colab_type": "text"
      },
      "source": [
        "##Standardisation"
      ]
    },
    {
      "cell_type": "code",
      "metadata": {
        "id": "4sOynzUxhOGw",
        "colab_type": "code",
        "colab": {}
      },
      "source": [
        "from sklearn.preprocessing import StandardScaler\n",
        "sc = StandardScaler()\n",
        "x_train[:,4:] = sc.fit_transform(x_train[:,4:])\n",
        "x_test[:,4:] = sc.transform(x_test[:,4:])"
      ],
      "execution_count": 23,
      "outputs": []
    },
    {
      "cell_type": "markdown",
      "metadata": {
        "id": "CJHEKcgd22-j",
        "colab_type": "text"
      },
      "source": [
        "##Comparing classification models"
      ]
    },
    {
      "cell_type": "markdown",
      "metadata": {
        "id": "bLHuAdO03178",
        "colab_type": "text"
      },
      "source": [
        "*   Logistic Regression\n",
        "*   KNN\n",
        "*   Decision Tree\n",
        "*   Random Forest\n",
        "*   linear SVC\n",
        "*   Kernel SVC\n"
      ]
    },
    {
      "cell_type": "code",
      "metadata": {
        "id": "H-tfLX_Lhv_y",
        "colab_type": "code",
        "colab": {}
      },
      "source": [
        "from sklearn.linear_model import LogisticRegression\n",
        "from sklearn.neighbors import KNeighborsClassifier\n",
        "from sklearn.tree import DecisionTreeClassifier\n",
        "from sklearn.ensemble import RandomForestClassifier\n",
        "from sklearn.svm import SVC"
      ],
      "execution_count": 24,
      "outputs": []
    },
    {
      "cell_type": "code",
      "metadata": {
        "id": "R_ENPAtRh-88",
        "colab_type": "code",
        "colab": {}
      },
      "source": [
        "l_cla = LogisticRegression()\n",
        "k_cla = KNeighborsClassifier(n_neighbors = 10)\n",
        "d_cla = DecisionTreeClassifier()\n",
        "r_cla = RandomForestClassifier(n_estimators = 200)\n",
        "s_cla = SVC(kernel='linear')\n",
        "ks_cla = SVC(kernel= 'rbf')"
      ],
      "execution_count": 25,
      "outputs": []
    },
    {
      "cell_type": "code",
      "metadata": {
        "id": "kEm5v1lmiBZU",
        "colab_type": "code",
        "colab": {
          "base_uri": "https://localhost:8080/",
          "height": 85
        },
        "outputId": "4b3c4199-9e4e-41eb-b2c3-87ff1dc71432"
      },
      "source": [
        "l_cla.fit(x_train, y_train)\n",
        "k_cla.fit(x_train, y_train)\n",
        "d_cla.fit(x_train, y_train)\n",
        "r_cla.fit(x_train, y_train)\n",
        "s_cla.fit(x_train, y_train)\n",
        "ks_cla.fit(x_train, y_train)"
      ],
      "execution_count": 26,
      "outputs": [
        {
          "output_type": "execute_result",
          "data": {
            "text/plain": [
              "SVC(C=1.0, break_ties=False, cache_size=200, class_weight=None, coef0=0.0,\n",
              "    decision_function_shape='ovr', degree=3, gamma='scale', kernel='rbf',\n",
              "    max_iter=-1, probability=False, random_state=None, shrinking=True,\n",
              "    tol=0.001, verbose=False)"
            ]
          },
          "metadata": {
            "tags": []
          },
          "execution_count": 26
        }
      ]
    },
    {
      "cell_type": "code",
      "metadata": {
        "id": "daLgMcUmiElp",
        "colab_type": "code",
        "colab": {}
      },
      "source": [
        "l_pred = l_cla.predict(x_test)\n",
        "k_pred = k_cla.predict(x_test)\n",
        "d_pred = d_cla.predict(x_test)\n",
        "r_pred = r_cla.predict(x_test)\n",
        "s_pred = s_cla.predict(x_test)\n",
        "ks_pred = ks_cla.predict(x_test)"
      ],
      "execution_count": 27,
      "outputs": []
    },
    {
      "cell_type": "code",
      "metadata": {
        "id": "Oi94d1uqiMo_",
        "colab_type": "code",
        "colab": {}
      },
      "source": [
        "from sklearn.metrics import confusion_matrix"
      ],
      "execution_count": 28,
      "outputs": []
    },
    {
      "cell_type": "code",
      "metadata": {
        "id": "F1zS5KfFiNeK",
        "colab_type": "code",
        "colab": {}
      },
      "source": [
        "l_c = confusion_matrix(y_test, l_pred)\n",
        "k_c = confusion_matrix(y_test, k_pred)\n",
        "d_c = confusion_matrix(y_test, d_pred)\n",
        "r_c = confusion_matrix(y_test, r_pred)\n",
        "s_c = confusion_matrix(y_test, s_pred)\n",
        "ks_c = confusion_matrix(y_test, ks_pred)"
      ],
      "execution_count": 29,
      "outputs": []
    },
    {
      "cell_type": "code",
      "metadata": {
        "id": "WPzlTAVTiP-F",
        "colab_type": "code",
        "colab": {
          "base_uri": "https://localhost:8080/",
          "height": 221
        },
        "outputId": "435d89b9-7d92-4b83-eae1-398c2f2abeef"
      },
      "source": [
        "print(l_c) \n",
        "print(k_c) \n",
        "print(d_c) \n",
        "print(r_c) \n",
        "print(s_c) \n",
        "print(ks_c)"
      ],
      "execution_count": 30,
      "outputs": [
        {
          "output_type": "stream",
          "text": [
            "[[15  5]\n",
            " [ 2 43]]\n",
            "[[13  7]\n",
            " [ 3 42]]\n",
            "[[14  6]\n",
            " [11 34]]\n",
            "[[15  5]\n",
            " [ 1 44]]\n",
            "[[13  7]\n",
            " [ 1 44]]\n",
            "[[10 10]\n",
            " [ 0 45]]\n"
          ],
          "name": "stdout"
        }
      ]
    },
    {
      "cell_type": "code",
      "metadata": {
        "id": "Dt4gUPTwiSzW",
        "colab_type": "code",
        "colab": {}
      },
      "source": [
        "from sklearn.metrics import accuracy_score\n",
        "l_a = accuracy_score(y_test, l_pred)\n",
        "k_a = accuracy_score(y_test, k_pred)\n",
        "d_a = accuracy_score(y_test, d_pred)\n",
        "r_a = accuracy_score(y_test, r_pred)\n",
        "s_a = accuracy_score(y_test, s_pred)\n",
        "ks_a = accuracy_score(y_test, ks_pred)"
      ],
      "execution_count": 31,
      "outputs": []
    },
    {
      "cell_type": "code",
      "metadata": {
        "id": "S3sfavSRiYbR",
        "colab_type": "code",
        "colab": {
          "base_uri": "https://localhost:8080/",
          "height": 119
        },
        "outputId": "486269a3-0187-4c9e-db83-44a16d4bdd08"
      },
      "source": [
        "print('Logistic Regression: ' + str(l_a) + '\\nKNN: ' + str(k_a) + '\\nDecision Tree: ' + str(d_a) + '\\nRandom Forest: ' + str(r_a) + '\\nLinear SVC: ' + str(s_a) + '\\nKernel SVC: ' + str(ks_a))"
      ],
      "execution_count": 32,
      "outputs": [
        {
          "output_type": "stream",
          "text": [
            "Logistic Regression: 0.8923076923076924\n",
            "KNN: 0.8461538461538461\n",
            "Decision Tree: 0.7384615384615385\n",
            "Random Forest: 0.9076923076923077\n",
            "Linear SVC: 0.8769230769230769\n",
            "Kernel SVC: 0.8461538461538461\n"
          ],
          "name": "stdout"
        }
      ]
    },
    {
      "cell_type": "markdown",
      "metadata": {
        "id": "td-Z9-iYImBM",
        "colab_type": "text"
      },
      "source": [
        "**Random Forest shows highest accuracy score of 90.76%**\n",
        "\n",
        "**So we can conclude *Random Forest* classification model is best fit for our dataset**\n",
        "\n"
      ]
    },
    {
      "cell_type": "markdown",
      "metadata": {
        "id": "ngijMpowR7FR",
        "colab_type": "text"
      },
      "source": [
        "##Conclusion"
      ]
    },
    {
      "cell_type": "markdown",
      "metadata": {
        "id": "-PpUytJwLRlZ",
        "colab_type": "text"
      },
      "source": [
        "*  More male students got placed as compared to female students. (Since more male students sat for placements) \n",
        "*   Male students got higher salaries as compared to female students.\n",
        "*   Board of Education doesn't matter in placements\n",
        "*   Students with higher percentages in 10th,12th and degree have a better chance of placements.But MBA percentages don't influence over placements.\n",
        "*  Students with no work experience got placed more than the students who had work experience.\n",
        "*  Specialisation matters lot in placements.Mkt&fin students have more placements compared to Mkt&HR.By salary wise also MKT&Fin students are highly paid compared to Mkt&HR.\n",
        "*  Sci&Tech students gets a higher salary compared to Comm&Mgmt and other degrees.\n",
        "\n"
      ]
    },
    {
      "cell_type": "markdown",
      "metadata": {
        "id": "wScgQN6qQmU1",
        "colab_type": "text"
      },
      "source": [
        "**Thank you**\n",
        "\n",
        "***Jayasurya B*** "
      ]
    }
  ]
}